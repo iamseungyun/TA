{
 "cells": [
  {
   "cell_type": "markdown",
   "metadata": {},
   "source": [
    "#### 코드 참조 \n",
    "[1] https://github.com/rickiepark/machine-learning-with-python-cookbook\n",
    "[2] https://docs.scipy.org/doc/scipy/reference/tutorial/linalg.html \n",
    "[3] https://github.com/mikexcohen/LinAlgBook/blob/main/python\n",
    "[4] https://docs.sympy.org/latest/tutorial/matrices.html\n",
    "[5] Dr. Jaewook Lee's Lecture Notes"
   ]
  },
  {
   "cell_type": "markdown",
   "metadata": {},
   "source": [
    "# 2장 선형방정식"
   ]
  },
  {
   "cell_type": "markdown",
   "metadata": {},
   "source": [
    "## 2.1 행렬의 랭크 구하기"
   ]
  },
  {
   "cell_type": "code",
   "execution_count": 1,
   "metadata": {},
   "outputs": [
    {
     "data": {
      "text/plain": [
       "2"
      ]
     },
     "execution_count": 1,
     "metadata": {},
     "output_type": "execute_result"
    }
   ],
   "source": [
    "# 라이브러리를 임포트합니다.\n",
    "import numpy as np\n",
    "\n",
    "# 행렬을 만듭니다.\n",
    "A = np.array([[1, 1, 1],\n",
    "                   [1, 1, 10],\n",
    "                   [1, 1, 15]])\n",
    "\n",
    "# 행렬의 랭크를 반환합니다.\n",
    "np.linalg.matrix_rank(A)"
   ]
  },
  {
   "cell_type": "markdown",
   "metadata": {},
   "source": [
    "## 2.2 행렬공간"
   ]
  },
  {
   "cell_type": "code",
   "execution_count": 2,
   "metadata": {},
   "outputs": [],
   "source": [
    "## import libraries for the entire chapter\n",
    "import numpy as np\n",
    "from scipy.linalg import null_space"
   ]
  },
  {
   "cell_type": "code",
   "execution_count": 3,
   "metadata": {},
   "outputs": [
    {
     "data": {
      "text/plain": [
       "array([[-0.58077744],\n",
       "       [ 0.63037813],\n",
       "       [ 0.51376989],\n",
       "       [ 0.0368983 ]])"
      ]
     },
     "execution_count": 3,
     "metadata": {},
     "output_type": "execute_result"
    }
   ],
   "source": [
    "A = np.random.randn(3,4)\n",
    "\n",
    "# the null space\n",
    "null_space(A)"
   ]
  },
  {
   "cell_type": "code",
   "execution_count": 4,
   "metadata": {},
   "outputs": [
    {
     "name": "stdout",
     "output_type": "stream",
     "text": [
      "9\n",
      "11\n",
      "16\n"
     ]
    }
   ],
   "source": [
    "# a reduced-rank matrix\n",
    "A = np.random.randn(16,9) @ np.random.randn(9,11)\n",
    "\n",
    "# null spaces\n",
    "A_n = null_space(A)\n",
    "A_ln = null_space(A.T)\n",
    "r  = np.linalg.matrix_rank(A)\n",
    "print(r)\n",
    "# dimensionalities\n",
    "print(A_n.shape[1]+r)\n",
    "print(A_ln.shape[1]+r)"
   ]
  },
  {
   "cell_type": "markdown",
   "metadata": {},
   "source": [
    "## 2.3 행렬식(determinant)과 norm 계산하기"
   ]
  },
  {
   "cell_type": "code",
   "execution_count": 5,
   "metadata": {},
   "outputs": [
    {
     "data": {
      "text/plain": [
       "-25.000000000000004"
      ]
     },
     "execution_count": 5,
     "metadata": {},
     "output_type": "execute_result"
    }
   ],
   "source": [
    "# 라이브러리를 임포트합니다.\n",
    "import numpy as np\n",
    "import matplotlib.pyplot as plt\n",
    "from scipy import linalg\n",
    "\n",
    "# 행렬을 만듭니다.\n",
    "A = np.array([[1, 3, 5],\n",
    "              [2, 5, 1],\n",
    "              [2, 3, 8]])\n",
    "\n",
    "# 행렬의 행렬식을 반환합니다.\n",
    "linalg.det(A)"
   ]
  },
  {
   "cell_type": "code",
   "execution_count": 6,
   "metadata": {},
   "outputs": [
    {
     "data": {
      "image/png": "[encoded data removed]",
      "text/plain": [
       "<Figure size 640x480 with 1 Axes>"
      ]
     },
     "metadata": {},
     "output_type": "display_data"
    }
   ],
   "source": [
    "# matrix sizes\n",
    "ns = np.arange(3,31)\n",
    "\n",
    "# iteration\n",
    "iters = 100\n",
    "\n",
    "# initialize\n",
    "dets = np.zeros((len(ns),iters))\n",
    "\n",
    "# loop over matrix sizes\n",
    "for ni in range(len(ns)):\n",
    "    for i in range(iters):\n",
    "        \n",
    "        # step 1\n",
    "        A = np.random.randn(ns[ni],ns[ni])\n",
    "        \n",
    "        # step 2\n",
    "        A[:,0] = A[:,1]\n",
    "        \n",
    "        # step 3\n",
    "        dets[ni,i]=np.abs(np.linalg.det(A))\n",
    "        \n",
    "\n",
    "# plotting\n",
    "plt.plot(ns,np.log(np.mean(dets,axis=1)))\n",
    "plt.xlabel('Matrix size')\n",
    "plt.ylabel('Log determinant')\n",
    "plt.show()"
   ]
  },
  {
   "cell_type": "code",
   "execution_count": 7,
   "metadata": {},
   "outputs": [
    {
     "data": {
      "text/plain": [
       "29.5394255641358"
      ]
     },
     "execution_count": 7,
     "metadata": {},
     "output_type": "execute_result"
    }
   ],
   "source": [
    "linalg.norm(A)"
   ]
  },
  {
   "cell_type": "code",
   "execution_count": 8,
   "metadata": {},
   "outputs": [
    {
     "data": {
      "text/plain": [
       "29.5394255641358"
      ]
     },
     "execution_count": 8,
     "metadata": {},
     "output_type": "execute_result"
    }
   ],
   "source": [
    "linalg.norm(A,'fro') # frobenius norm is the default"
   ]
  },
  {
   "cell_type": "code",
   "execution_count": 9,
   "metadata": {},
   "outputs": [
    {
     "data": {
      "text/plain": [
       "29.899608665363747"
      ]
     },
     "execution_count": 9,
     "metadata": {},
     "output_type": "execute_result"
    }
   ],
   "source": [
    "linalg.norm(A,1) # L1 norm (max column sum)"
   ]
  },
  {
   "cell_type": "code",
   "execution_count": 10,
   "metadata": {},
   "outputs": [
    {
     "data": {
      "text/plain": [
       "16.668183097998394"
      ]
     },
     "execution_count": 10,
     "metadata": {},
     "output_type": "execute_result"
    }
   ],
   "source": [
    "linalg.norm(A,-1) # min column sum"
   ]
  },
  {
   "cell_type": "code",
   "execution_count": 11,
   "metadata": {},
   "outputs": [
    {
     "data": {
      "text/plain": [
       "33.36562719536212"
      ]
     },
     "execution_count": 11,
     "metadata": {},
     "output_type": "execute_result"
    }
   ],
   "source": [
    "linalg.norm(A,np.inf) # L inf norm (max row sum)"
   ]
  },
  {
   "cell_type": "markdown",
   "metadata": {},
   "source": [
    "##  2.4 선형방정식과 LU 분해"
   ]
  },
  {
   "cell_type": "code",
   "execution_count": 12,
   "metadata": {},
   "outputs": [],
   "source": [
    "# 라이브러리를 임포트합니다.\n",
    "import numpy as np\n",
    "from scipy.linalg import lu\n",
    "\n",
    "A = np.array([[1,3,5],[2,5,1],[2,3,8]])"
   ]
  },
  {
   "cell_type": "code",
   "execution_count": 13,
   "metadata": {},
   "outputs": [
    {
     "name": "stdout",
     "output_type": "stream",
     "text": [
      "[[0. 0. 1.]\n",
      " [1. 0. 0.]\n",
      " [0. 1. 0.]]\n",
      "[[ 1.    0.    0.  ]\n",
      " [ 1.    1.    0.  ]\n",
      " [ 0.5  -0.25  1.  ]]\n",
      "[[ 2.    5.    1.  ]\n",
      " [ 0.   -2.    7.  ]\n",
      " [ 0.    0.    6.25]]\n"
     ]
    }
   ],
   "source": [
    "# LU 분해합니다.\n",
    "P, L, U = lu(A)\n",
    "np.allclose(A - P @ L @ U, np.zeros((3, 3)))\n",
    "print(P)\n",
    "print(L),\n",
    "print(U)"
   ]
  },
  {
   "cell_type": "code",
   "execution_count": 14,
   "metadata": {},
   "outputs": [
    {
     "data": {
      "text/plain": [
       "array([[ 8.  ],\n",
       "       [-5.  ],\n",
       "       [ 4.75]])"
      ]
     },
     "execution_count": 14,
     "metadata": {},
     "output_type": "execute_result"
    }
   ],
   "source": [
    "b = np.array([[10], [8], [3]])\n",
    "y=np.linalg.solve(L, P.T@ b)\n",
    "y"
   ]
  },
  {
   "cell_type": "code",
   "execution_count": 15,
   "metadata": {},
   "outputs": [
    {
     "data": {
      "text/plain": [
       "array([[-9.28],\n",
       "       [ 5.16],\n",
       "       [ 0.76]])"
      ]
     },
     "execution_count": 15,
     "metadata": {},
     "output_type": "execute_result"
    }
   ],
   "source": [
    "x=np.linalg.solve(U, y)\n",
    "x"
   ]
  },
  {
   "cell_type": "markdown",
   "metadata": {},
   "source": [
    "## 2.5 역행렬 구하기, 연립방정식 풀기"
   ]
  },
  {
   "cell_type": "code",
   "execution_count": 16,
   "metadata": {},
   "outputs": [
    {
     "data": {
      "text/plain": [
       "array([[1, 3, 5],\n",
       "       [2, 5, 1],\n",
       "       [2, 3, 8]])"
      ]
     },
     "execution_count": 16,
     "metadata": {},
     "output_type": "execute_result"
    }
   ],
   "source": [
    "import numpy as np\n",
    "from scipy import linalg\n",
    "A = np.array([[1,3,5],[2,5,1],[2,3,8]])\n",
    "A"
   ]
  },
  {
   "cell_type": "code",
   "execution_count": 17,
   "metadata": {},
   "outputs": [
    {
     "data": {
      "text/plain": [
       "array([[-1.48,  0.36,  0.88],\n",
       "       [ 0.56,  0.08, -0.36],\n",
       "       [ 0.16, -0.12,  0.04]])"
      ]
     },
     "execution_count": 17,
     "metadata": {},
     "output_type": "execute_result"
    }
   ],
   "source": [
    "linalg.inv(A)"
   ]
  },
  {
   "cell_type": "code",
   "execution_count": 18,
   "metadata": {},
   "outputs": [
    {
     "data": {
      "text/plain": [
       "array([[ 1.00000000e+00, -1.11022302e-16,  4.85722573e-17],\n",
       "       [ 3.05311332e-16,  1.00000000e+00,  7.63278329e-17],\n",
       "       [ 2.22044605e-16, -1.11022302e-16,  1.00000000e+00]])"
      ]
     },
     "execution_count": 18,
     "metadata": {},
     "output_type": "execute_result"
    }
   ],
   "source": [
    "A.dot(linalg.inv(A)) #double check"
   ]
  },
  {
   "cell_type": "code",
   "execution_count": 19,
   "metadata": {},
   "outputs": [
    {
     "data": {
      "text/plain": [
       "array([[ 1.00000000e+00,  1.11022302e-16, -6.24500451e-17],\n",
       "       [-1.38777878e-16,  1.00000000e+00, -1.45716772e-16],\n",
       "       [-2.22044605e-16,  0.00000000e+00,  1.00000000e+00]])"
      ]
     },
     "execution_count": 19,
     "metadata": {},
     "output_type": "execute_result"
    }
   ],
   "source": [
    "# 행렬과 역행렬을 곱합니다.\n",
    "A @ np.linalg.inv(A)"
   ]
  },
  {
   "cell_type": "code",
   "execution_count": 20,
   "metadata": {},
   "outputs": [
    {
     "data": {
      "text/plain": [
       "array([[10],\n",
       "       [ 8],\n",
       "       [ 3]])"
      ]
     },
     "execution_count": 20,
     "metadata": {},
     "output_type": "execute_result"
    }
   ],
   "source": [
    "b = np.array([[10], [8], [3]])\n",
    "b"
   ]
  },
  {
   "cell_type": "code",
   "execution_count": 21,
   "metadata": {},
   "outputs": [
    {
     "data": {
      "text/plain": [
       "array([[-9.28],\n",
       "       [ 5.16],\n",
       "       [ 0.76]])"
      ]
     },
     "execution_count": 21,
     "metadata": {},
     "output_type": "execute_result"
    }
   ],
   "source": [
    "linalg.inv(A).dot(b)  # slow"
   ]
  },
  {
   "cell_type": "code",
   "execution_count": 22,
   "metadata": {},
   "outputs": [
    {
     "data": {
      "text/plain": [
       "array([[ 0.00000000e+00],\n",
       "       [-1.77635684e-15],\n",
       "       [-8.88178420e-16]])"
      ]
     },
     "execution_count": 22,
     "metadata": {},
     "output_type": "execute_result"
    }
   ],
   "source": [
    "A.dot(linalg.inv(A).dot(b)) - b  # check"
   ]
  },
  {
   "cell_type": "code",
   "execution_count": 23,
   "metadata": {},
   "outputs": [
    {
     "data": {
      "text/plain": [
       "array([[-9.28],\n",
       "       [ 5.16],\n",
       "       [ 0.76]])"
      ]
     },
     "execution_count": 23,
     "metadata": {},
     "output_type": "execute_result"
    }
   ],
   "source": [
    "np.linalg.solve(A, b)  # fast"
   ]
  },
  {
   "cell_type": "code",
   "execution_count": 24,
   "metadata": {
    "scrolled": true
   },
   "outputs": [
    {
     "data": {
      "text/plain": [
       "array([[ 0.00000000e+00],\n",
       "       [-1.77635684e-15],\n",
       "       [-1.77635684e-15]])"
      ]
     },
     "execution_count": 24,
     "metadata": {},
     "output_type": "execute_result"
    }
   ],
   "source": [
    "A.dot(np.linalg.solve(A, b)) - b  # check"
   ]
  },
  {
   "cell_type": "code",
   "execution_count": 25,
   "metadata": {},
   "outputs": [
    {
     "data": {
      "text/plain": [
       "array([[ 1,  1,  2, -1],\n",
       "       [ 4,  3,  6, -5],\n",
       "       [-1, -2, -4,  0]])"
      ]
     },
     "execution_count": 25,
     "metadata": {},
     "output_type": "execute_result"
    }
   ],
   "source": [
    "import numpy as np\n",
    "from scipy.linalg import lu\n",
    "import sympy as sym\n",
    "\n",
    "A = np.array([[1,1, 2, -1],[4, 3, 6, -5],[-1, -2, -4, 0]])\n",
    "A"
   ]
  },
  {
   "cell_type": "code",
   "execution_count": 26,
   "metadata": {},
   "outputs": [
    {
     "data": {
      "text/plain": [
       "array([[-1],\n",
       "       [-4],\n",
       "       [ 1]])"
      ]
     },
     "execution_count": 26,
     "metadata": {},
     "output_type": "execute_result"
    }
   ],
   "source": [
    "b = np.array([[-1], [-4], [1]])\n",
    "b"
   ]
  },
  {
   "cell_type": "code",
   "execution_count": 27,
   "metadata": {},
   "outputs": [
    {
     "name": "stdout",
     "output_type": "stream",
     "text": [
      "[[0. 0. 1.]\n",
      " [1. 0. 0.]\n",
      " [0. 1. 0.]]\n",
      "[[ 1.    0.    0.  ]\n",
      " [-0.25  1.    0.  ]\n",
      " [ 0.25 -0.2   1.  ]]\n",
      "[[ 4.00000000e+00  3.00000000e+00  6.00000000e+00 -5.00000000e+00]\n",
      " [ 0.00000000e+00 -1.25000000e+00 -2.50000000e+00 -1.25000000e+00]\n",
      " [ 0.00000000e+00  0.00000000e+00 -2.77555756e-17 -1.38777878e-17]]\n"
     ]
    }
   ],
   "source": [
    "# LU 분해합니다.\n",
    "P, L, U = lu(A)\n",
    "print(P)\n",
    "print(L),\n",
    "print(U)"
   ]
  },
  {
   "cell_type": "code",
   "execution_count": 28,
   "metadata": {},
   "outputs": [
    {
     "data": {
      "text/plain": [
       "(Matrix([\n",
       " [1, 0, 0, -2],\n",
       " [0, 1, 2,  1],\n",
       " [0, 0, 0,  0]]),\n",
       " (0, 1))"
      ]
     },
     "execution_count": 28,
     "metadata": {},
     "output_type": "execute_result"
    }
   ],
   "source": [
    "# 기약사다리꼴(rref)에서 pivot 위치 보여주기\n",
    "# transform to sympy matrix for RREF\n",
    "sym.Matrix(A).rref()"
   ]
  },
  {
   "cell_type": "code",
   "execution_count": 29,
   "metadata": {},
   "outputs": [
    {
     "data": {
      "text/latex": [
       "$\\displaystyle \\left[\\begin{matrix}1 & 0 & 0 & -2\\\\0 & 1 & 2 & 1\\\\0 & 0 & 0 & 0\\end{matrix}\\right]$"
      ],
      "text/plain": [
       "Matrix([\n",
       "[1, 0, 0, -2],\n",
       "[0, 1, 2,  1],\n",
       "[0, 0, 0,  0]])"
      ]
     },
     "execution_count": 29,
     "metadata": {},
     "output_type": "execute_result"
    }
   ],
   "source": [
    "# 기약사다리꼴(rref) 행렬을 심볼릭하게 보여주기\n",
    "sym.Matrix(A).rref()[0]"
   ]
  }
 ],
 "metadata": {
  "kernelspec": {
   "display_name": "Python 3 (ipykernel)",
   "language": "python",
   "name": "python3"
  },
  "language_info": {
   "codemirror_mode": {
    "name": "ipython",
    "version": 3
   },
   "file_extension": ".py",
   "mimetype": "text/x-python",
   "name": "python",
   "nbconvert_exporter": "python",
   "pygments_lexer": "ipython3",
   "version": "3.9.13"
  }
 },
 "nbformat": 4,
 "nbformat_minor": 2
}
