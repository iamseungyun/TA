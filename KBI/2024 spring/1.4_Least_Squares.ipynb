{
 "cells": [
  {
   "cell_type": "markdown",
   "metadata": {},
   "source": [
    "#### 코드 참조 \n",
    "[1] https://github.com/rickiepark/machine-learning-with-python-cookbook\n",
    "[2] https://docs.scipy.org/doc/scipy/reference/tutorial/linalg.html \n",
    "[3] https://github.com/mikexcohen/LinAlgBook/blob/main/python\n",
    "[4] https://docs.sympy.org/latest/tutorial/matrices.html\n",
    "[5] Dr. Jaewook Lee's Lecture Notes"
   ]
  },
  {
   "cell_type": "markdown",
   "metadata": {},
   "source": [
    "# 4장 최소 좌승법과 QR 분해"
   ]
  },
  {
   "cell_type": "markdown",
   "metadata": {},
   "source": [
    "## 그람슈미트 직교화(GS orthogonalization)"
   ]
  },
  {
   "cell_type": "code",
   "execution_count": 1,
   "metadata": {},
   "outputs": [],
   "source": [
    "## import libraries for the entire chapter\n",
    "import numpy as np\n",
    "# create the matrix \n",
    "m = 4\n",
    "n = 4\n",
    "A = np.random.randn(m,n)\n",
    "\n",
    "# initialize\n",
    "Q = np.zeros((m,n))\n",
    "\n",
    "\n",
    "# the GS algo\n",
    "for i in range(n):\n",
    "    \n",
    "    # initialize\n",
    "    Q[:,i] = A[:,i]\n",
    "    \n",
    "    # orthogonalize\n",
    "    a = A[:,i] # convenience\n",
    "    for j in range(i): # only to earlier cols\n",
    "        q = Q[:,j] # convenience\n",
    "        Q[:,i]=Q[:,i]-np.dot(a,q)/np.dot(q,q)*q\n",
    "    \n",
    "    # normalize\n",
    "    Q[:,i] = Q[:,i] / np.linalg.norm(Q[:,i])\n"
   ]
  },
  {
   "cell_type": "code",
   "execution_count": 2,
   "metadata": {},
   "outputs": [
    {
     "data": {
      "text/plain": [
       "array([[ 5.55111512e-17, -1.35308431e-16,  4.21756517e-01,\n",
       "         2.22044605e-16],\n",
       "       [-1.11022302e-16,  1.66533454e-16, -5.28551642e-01,\n",
       "         1.11022302e-16],\n",
       "       [ 0.00000000e+00,  1.11022302e-16,  7.95573756e-01,\n",
       "        -7.56339436e-16],\n",
       "       [ 0.00000000e+00,  5.55111512e-17, -1.70581857e+00,\n",
       "        -2.77555756e-16]])"
      ]
     },
     "execution_count": 2,
     "metadata": {},
     "output_type": "execute_result"
    }
   ],
   "source": [
    "# \"real\" QR decomposition for comparison\n",
    "Q2,R = np.linalg.qr(A)\n",
    "\n",
    "\n",
    "# note the possible sign differences.\n",
    "# seemingly non-zero columns will be 0 when adding\n",
    "Q-Q2"
   ]
  },
  {
   "cell_type": "code",
   "execution_count": 3,
   "metadata": {},
   "outputs": [],
   "source": [
    "import numpy as np\n",
    "from scipy import linalg\n",
    "import matplotlib.pyplot as plt"
   ]
  },
  {
   "cell_type": "code",
   "execution_count": 4,
   "metadata": {},
   "outputs": [
    {
     "data": {
      "text/plain": [
       "array([ 1,  2,  3,  4,  5,  6,  7,  8,  9, 10])"
      ]
     },
     "execution_count": 4,
     "metadata": {},
     "output_type": "execute_result"
    }
   ],
   "source": [
    "c1, c2 = 5.0, 2.0\n",
    "i = np.r_[1:11]\n",
    "i"
   ]
  },
  {
   "cell_type": "code",
   "execution_count": 5,
   "metadata": {},
   "outputs": [],
   "source": [
    "xi = 0.1*i\n",
    "yi = c1*np.exp(-xi) + c2*xi\n",
    "zi = yi + 0.05 * np.max(yi) * np.random.randn(len(yi))\n",
    "A = np.c_[np.exp(-xi)[:, np.newaxis], xi[:, np.newaxis]]\n",
    "c, resid, rank, sigma = linalg.lstsq(A, zi)"
   ]
  },
  {
   "cell_type": "code",
   "execution_count": 6,
   "metadata": {},
   "outputs": [
    {
     "data": {
      "image/png": "[encoded data removed]",
      "text/plain": [
       "<Figure size 640x480 with 1 Axes>"
      ]
     },
     "metadata": {},
     "output_type": "display_data"
    }
   ],
   "source": [
    "xi2 = np.r_[0.1:1.0:100j]\n",
    "yi2 = c[0]*np.exp(-xi2) + c[1]*xi2\n",
    "plt.plot(xi,zi,'x',xi2,yi2)\n",
    "plt.axis([0,1.1,3.0,5.5])\n",
    "plt.xlabel('$x_i$')\n",
    "plt.title('Data fitting with linalg.lstsq')\n",
    "plt.show()"
   ]
  },
  {
   "cell_type": "code",
   "execution_count": 7,
   "metadata": {},
   "outputs": [
    {
     "data": {
      "text/plain": [
       "True"
      ]
     },
     "execution_count": 7,
     "metadata": {},
     "output_type": "execute_result"
    }
   ],
   "source": [
    "q, r = linalg.qr(A)\n",
    "np.allclose(A, np.dot(q, r))"
   ]
  },
  {
   "cell_type": "code",
   "execution_count": 8,
   "metadata": {},
   "outputs": [
    {
     "data": {
      "text/plain": [
       "((10, 2), (10, 10), (10, 2))"
      ]
     },
     "execution_count": 8,
     "metadata": {},
     "output_type": "execute_result"
    }
   ],
   "source": [
    "A.shape, q.shape, r.shape"
   ]
  },
  {
   "cell_type": "code",
   "execution_count": 9,
   "metadata": {},
   "outputs": [
    {
     "data": {
      "text/plain": [
       "True"
      ]
     },
     "execution_count": 9,
     "metadata": {},
     "output_type": "execute_result"
    }
   ],
   "source": [
    "# either both Q and R (‘full’, default), only R (‘r’) or \n",
    "# both Q and R but computed in economy-size (‘economic’, see Notes)\n",
    "r2 = linalg.qr(A, mode='r')\n",
    "np.allclose(r, r2)"
   ]
  },
  {
   "cell_type": "code",
   "execution_count": 10,
   "metadata": {},
   "outputs": [
    {
     "data": {
      "text/plain": [
       "((10, 2), (2, 2))"
      ]
     },
     "execution_count": 10,
     "metadata": {},
     "output_type": "execute_result"
    }
   ],
   "source": [
    "q3, r3 = linalg.qr(A, mode='economic')\n",
    "q3.shape, r3.shape"
   ]
  },
  {
   "cell_type": "code",
   "execution_count": 11,
   "metadata": {},
   "outputs": [
    {
     "data": {
      "text/plain": [
       "array([-12.72974127,   2.76039062])"
      ]
     },
     "execution_count": 11,
     "metadata": {},
     "output_type": "execute_result"
    }
   ],
   "source": [
    "q3.T@ zi"
   ]
  },
  {
   "cell_type": "code",
   "execution_count": 12,
   "metadata": {},
   "outputs": [
    {
     "data": {
      "text/plain": [
       "(array([4.96368556, 2.04805376]), array([4.96368556, 2.04805376]))"
      ]
     },
     "execution_count": 12,
     "metadata": {},
     "output_type": "execute_result"
    }
   ],
   "source": [
    "x=np.linalg.solve(r3, q3.T@ zi)\n",
    "x, c"
   ]
  }
 ],
 "metadata": {
  "kernelspec": {
   "display_name": "Python 3 (ipykernel)",
   "language": "python",
   "name": "python3"
  },
  "language_info": {
   "codemirror_mode": {
    "name": "ipython",
    "version": 3
   },
   "file_extension": ".py",
   "mimetype": "text/x-python",
   "name": "python",
   "nbconvert_exporter": "python",
   "pygments_lexer": "ipython3",
   "version": "3.9.13"
  }
 },
 "nbformat": 4,
 "nbformat_minor": 2
}
