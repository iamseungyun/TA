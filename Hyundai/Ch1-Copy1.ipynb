{
 "cells": [
  {
   "cell_type": "code",
   "execution_count": 9,
   "id": "67a38169",
   "metadata": {},
   "outputs": [],
   "source": [
    "import pandas as pd\n",
    "import numpy as np\n",
    "import matplotlib.pyplot as plt\n",
    "import pmdarima as pm\n",
    "import itertools\n",
    "import seaborn as sns\n",
    "from scipy import stats\n",
    "from statsmodels.tsa.seasonal import seasonal_decompose\n",
    "from statsmodels.tsa.stattools import adfuller, acf\n",
    "from statsmodels.graphics.tsaplots  import plot_acf, plot_pacf\n",
    "from sklearn.metrics import mean_squared_error, mean_absolute_error\n",
    "from statsmodels.tsa.arima.model import ARIMA"
   ]
  },
  {
   "cell_type": "markdown",
   "id": "ea3d939a",
   "metadata": {},
   "source": [
    "# Data"
   ]
  },
  {
   "cell_type": "markdown",
   "id": "61ee90ee",
   "metadata": {},
   "source": [
    "### Data Load"
   ]
  },
  {
   "cell_type": "code",
   "execution_count": 2,
   "id": "85077483",
   "metadata": {},
   "outputs": [],
   "source": [
    "gold = pd.read_csv('./data/gold.csv', index_col=0)\n",
    "silver = pd.read_csv('./data/silver.csv', index_col=0)\n",
    "platinum = pd.read_csv('./data/platinum.csv', index_col=0)"
   ]
  },
  {
   "cell_type": "code",
   "execution_count": 4,
   "id": "20d7e429",
   "metadata": {},
   "outputs": [],
   "source": [
    "price = gold.set_index(keys = 'Date')\n",
    "diff = price.diff().dropna()"
   ]
  },
  {
   "cell_type": "markdown",
   "id": "9aabefc9",
   "metadata": {},
   "source": [
    "### Fourier"
   ]
  },
  {
   "cell_type": "code",
   "execution_count": null,
   "id": "817354e6",
   "metadata": {},
   "outputs": [],
   "source": []
  },
  {
   "cell_type": "markdown",
   "id": "60913dec",
   "metadata": {},
   "source": [
    "## Classical Decomposition"
   ]
  },
  {
   "cell_type": "markdown",
   "id": "44715ab7",
   "metadata": {},
   "source": [
    "### Trend -> Moving average\n",
    "### Seasonal -> 각 period의 data - trend 평균"
   ]
  },
  {
   "cell_type": "code",
   "execution_count": null,
   "id": "3c35a6a9",
   "metadata": {},
   "outputs": [],
   "source": []
  },
  {
   "cell_type": "markdown",
   "id": "f218831f",
   "metadata": {},
   "source": [
    "## X-11"
   ]
  },
  {
   "cell_type": "markdown",
   "id": "0112fc31",
   "metadata": {},
   "source": [
    "## SEATS"
   ]
  },
  {
   "cell_type": "markdown",
   "id": "55957baa",
   "metadata": {},
   "source": [
    "## STL"
   ]
  }
 ],
 "metadata": {
  "kernelspec": {
   "display_name": "Python 3 (ipykernel)",
   "language": "python",
   "name": "python3"
  },
  "language_info": {
   "codemirror_mode": {
    "name": "ipython",
    "version": 3
   },
   "file_extension": ".py",
   "mimetype": "text/x-python",
   "name": "python",
   "nbconvert_exporter": "python",
   "pygments_lexer": "ipython3",
   "version": "3.9.13"
  }
 },
 "nbformat": 4,
 "nbformat_minor": 5
}
