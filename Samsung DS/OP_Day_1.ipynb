{
 "cells": [
  {
   "cell_type": "markdown",
   "metadata": {
    "id": "Ci5rV3dDPUe_"
   },
   "source": [
    "## 1. 미분법, 적분법 수업 내용 요약"
   ]
  },
  {
   "cell_type": "code",
   "execution_count": 1,
   "metadata": {
    "id": "R-2xrfi4PUfD"
   },
   "outputs": [],
   "source": [
    "# 아래 사이트 참고 해주세요 :)\n",
    "\n",
    "# https://ko.wikipedia.org/wiki/미분법\n",
    "# https://ko.wikipedia.org/wiki/적분표"
   ]
  },
  {
   "cell_type": "markdown",
   "metadata": {
    "id": "0CpjWum3PUfF"
   },
   "source": [
    "## 2. Sympy"
   ]
  },
  {
   "cell_type": "code",
   "execution_count": 2,
   "metadata": {
    "id": "su-mN4s2PUfF"
   },
   "outputs": [],
   "source": [
    "# 튜토리얼은 아래 사이트 참고\n",
    "# https://docs.sympy.org/latest/tutorial/calculus.html\n",
    "\n",
    "# 설치는 아래 코드\n",
    "#!conda install sympy\n",
    "# 혹은 터미널창에서 conda install sympy\n",
    "\n",
    "from sympy import *"
   ]
  },
  {
   "cell_type": "code",
   "execution_count": 3,
   "metadata": {
    "id": "nYiK9R8jPUfG"
   },
   "outputs": [],
   "source": [
    "# !pip install sympy"
   ]
  },
  {
   "cell_type": "code",
   "execution_count": 4,
   "metadata": {
    "id": "6nKZH0JKPUfG"
   },
   "outputs": [],
   "source": [
    "# 기호를 정의 해야함.\n",
    "\n",
    "x, y, z, t = symbols('x y z t')\n",
    "k, m, n = symbols('k m n', integer=True)\n",
    "f, g, h = symbols('f g h', cls=Function)"
   ]
  },
  {
   "cell_type": "code",
   "execution_count": 5,
   "metadata": {
    "id": "p8M8HK_pPUfG"
   },
   "outputs": [],
   "source": [
    "# 프린트 latex형태로 안나올 때\n",
    "\n",
    "init_printing(use_latex='mathjax')"
   ]
  },
  {
   "cell_type": "markdown",
   "metadata": {
    "id": "e19Tc-a0PUfH"
   },
   "source": [
    "## 3. Differentials"
   ]
  },
  {
   "cell_type": "code",
   "execution_count": 6,
   "metadata": {
    "colab": {
     "base_uri": "https://localhost:8080/",
     "height": 38
    },
    "id": "WdvGMLeYPUfI",
    "outputId": "b09b7e10-2126-458d-cf2f-492f13df31e4"
   },
   "outputs": [
    {
     "data": {
      "text/latex": [
       "$\\displaystyle - \\sin{\\left(x \\right)}$"
      ],
      "text/plain": [
       "-sin(x)"
      ]
     },
     "execution_count": 6,
     "metadata": {},
     "output_type": "execute_result"
    }
   ],
   "source": [
    "# x로 cos(x)를 미분\n",
    "\n",
    "diff(cos(x), x)"
   ]
  },
  {
   "cell_type": "code",
   "execution_count": 7,
   "metadata": {
    "colab": {
     "base_uri": "https://localhost:8080/",
     "height": 41
    },
    "id": "HH0YUNHrPUfJ",
    "outputId": "853f438d-ed7d-472c-dc76-f14eaebb218b"
   },
   "outputs": [
    {
     "data": {
      "text/latex": [
       "$\\displaystyle 2 x e^{x^{2}}$"
      ],
      "text/plain": [
       "     ⎛ 2⎞\n",
       "     ⎝x ⎠\n",
       "2⋅x⋅ℯ    "
      ]
     },
     "execution_count": 7,
     "metadata": {},
     "output_type": "execute_result"
    }
   ],
   "source": [
    "# x로 exp(x^2)를 미분\n",
    "\n",
    "diff(exp(x**2), x)"
   ]
  },
  {
   "cell_type": "code",
   "execution_count": 8,
   "metadata": {
    "colab": {
     "base_uri": "https://localhost:8080/",
     "height": 38
    },
    "id": "HWoepp8JPUfK",
    "outputId": "68edfdde-e167-4ddf-955f-bbb488003e23"
   },
   "outputs": [
    {
     "data": {
      "text/latex": [
       "$\\displaystyle 24 x$"
      ],
      "text/plain": [
       "24⋅x"
      ]
     },
     "execution_count": 8,
     "metadata": {},
     "output_type": "execute_result"
    }
   ],
   "source": [
    "# x로 x^4를 세번 미분\n",
    "\n",
    "diff(x**4, x, x, x)"
   ]
  },
  {
   "cell_type": "code",
   "execution_count": 9,
   "metadata": {
    "colab": {
     "base_uri": "https://localhost:8080/",
     "height": 38
    },
    "id": "OfPndBFUPUfK",
    "outputId": "589bda02-0cdd-4a1e-b275-3dbf93187adc"
   },
   "outputs": [
    {
     "data": {
      "text/latex": [
       "$\\displaystyle x^{3} y^{2} \\left(x^{3} y^{3} z^{3} + 14 x^{2} y^{2} z^{2} + 52 x y z + 48\\right) e^{x y z}$"
      ],
      "text/plain": [
       " 3  2 ⎛ 3  3  3       2  2  2                ⎞  x⋅y⋅z\n",
       "x ⋅y ⋅⎝x ⋅y ⋅z  + 14⋅x ⋅y ⋅z  + 52⋅x⋅y⋅z + 48⎠⋅ℯ     "
      ]
     },
     "execution_count": 9,
     "metadata": {},
     "output_type": "execute_result"
    }
   ],
   "source": [
    "# exp(xyz)를 x로 한번 미분, y로 2번 미분, z로 4번 미분\n",
    "\n",
    "diff(exp(x*y*z), x, y, y, z, z, z, z) # diff(exp(x*y*z), x, y, 2, z, 4) 같은 의미"
   ]
  },
  {
   "cell_type": "code",
   "execution_count": 10,
   "metadata": {
    "colab": {
     "base_uri": "https://localhost:8080/",
     "height": 57
    },
    "id": "g9WsifnPPUfL",
    "outputId": "db88bfca-eabd-4c55-8360-ee91f588d5f3"
   },
   "outputs": [
    {
     "data": {
      "text/latex": [
       "$\\displaystyle \\frac{\\partial^{7}}{\\partial z^{4}\\partial y^{2}\\partial x} e^{x y z}$"
      ],
      "text/plain": [
       "     7            \n",
       "    ∂     ⎛ x⋅y⋅z⎞\n",
       "──────────⎝ℯ     ⎠\n",
       "  4   2           \n",
       "∂z  ∂y  ∂x        "
      ]
     },
     "execution_count": 10,
     "metadata": {},
     "output_type": "execute_result"
    }
   ],
   "source": [
    "# 편미분 기호로 표현하고 싶을 때\n",
    "\n",
    "deriv = Derivative(exp(x*y*z), x, y, y, z, 4)\n",
    "deriv"
   ]
  },
  {
   "cell_type": "code",
   "execution_count": 11,
   "metadata": {
    "colab": {
     "base_uri": "https://localhost:8080/",
     "height": 38
    },
    "id": "wNsVgWzcPUfM",
    "outputId": "2d8dc546-348f-4905-9ec6-712cbb0839b1"
   },
   "outputs": [
    {
     "data": {
      "text/latex": [
       "$\\displaystyle x^{3} y^{2} \\left(x^{3} y^{3} z^{3} + 14 x^{2} y^{2} z^{2} + 52 x y z + 48\\right) e^{x y z}$"
      ],
      "text/plain": [
       " 3  2 ⎛ 3  3  3       2  2  2                ⎞  x⋅y⋅z\n",
       "x ⋅y ⋅⎝x ⋅y ⋅z  + 14⋅x ⋅y ⋅z  + 52⋅x⋅y⋅z + 48⎠⋅ℯ     "
      ]
     },
     "execution_count": 11,
     "metadata": {},
     "output_type": "execute_result"
    }
   ],
   "source": [
    "# deriv의 값을 알고 싶을 때\n",
    "\n",
    "deriv.doit()"
   ]
  },
  {
   "cell_type": "code",
   "execution_count": 12,
   "metadata": {
    "colab": {
     "base_uri": "https://localhost:8080/",
     "height": 51
    },
    "id": "FWmo1rTWPUfM",
    "outputId": "7a855855-38cb-417d-edcd-1871887ed414"
   },
   "outputs": [
    {
     "data": {
      "text/latex": [
       "$\\displaystyle 3 x^{2} + 2 x - 2 + \\frac{1}{x}$"
      ],
      "text/plain": [
       "   2             1\n",
       "3⋅x  + 2⋅x - 2 + ─\n",
       "                 x"
      ]
     },
     "execution_count": 12,
     "metadata": {},
     "output_type": "execute_result"
    }
   ],
   "source": [
    "func = x**3+y**3+(x-1)**2+(y-2)**2 + log(x) + exp(y)\n",
    "diff(func, x)"
   ]
  },
  {
   "cell_type": "code",
   "execution_count": 13,
   "metadata": {
    "colab": {
     "base_uri": "https://localhost:8080/",
     "height": 38
    },
    "id": "96aVFmfmPUfM",
    "outputId": "ca849e00-8dea-4c16-f36a-89c3d59d5483"
   },
   "outputs": [
    {
     "data": {
      "text/latex": [
       "$\\displaystyle 3 y^{2} + 2 y + e^{y} - 4$"
      ],
      "text/plain": [
       "   2          y    \n",
       "3⋅y  + 2⋅y + ℯ  - 4"
      ]
     },
     "execution_count": 13,
     "metadata": {},
     "output_type": "execute_result"
    }
   ],
   "source": [
    "diff(func, y)"
   ]
  },
  {
   "cell_type": "code",
   "execution_count": 14,
   "metadata": {
    "colab": {
     "base_uri": "https://localhost:8080/",
     "height": 37
    },
    "id": "9q7gEOunPUfN",
    "outputId": "19390c27-00f8-44c2-dd0d-147f79e74127"
   },
   "outputs": [
    {
     "data": {
      "text/latex": [
       "$\\displaystyle 0$"
      ],
      "text/plain": [
       "0"
      ]
     },
     "execution_count": 14,
     "metadata": {},
     "output_type": "execute_result"
    }
   ],
   "source": [
    "diff(func, x, y)"
   ]
  },
  {
   "cell_type": "markdown",
   "metadata": {
    "id": "0hCc5sC3PUfN"
   },
   "source": [
    "# 4. Integrals"
   ]
  },
  {
   "cell_type": "code",
   "execution_count": 15,
   "metadata": {
    "colab": {
     "base_uri": "https://localhost:8080/",
     "height": 38
    },
    "id": "A04FxDBmPUfO",
    "outputId": "887ebcc0-1100-4bed-f279-e4f48bf15fb3"
   },
   "outputs": [
    {
     "data": {
      "text/latex": [
       "$\\displaystyle \\sin{\\left(x \\right)}$"
      ],
      "text/plain": [
       "sin(x)"
      ]
     },
     "execution_count": 15,
     "metadata": {},
     "output_type": "execute_result"
    }
   ],
   "source": [
    "integrate(cos(x), x)"
   ]
  },
  {
   "cell_type": "code",
   "execution_count": 16,
   "metadata": {
    "colab": {
     "base_uri": "https://localhost:8080/",
     "height": 38
    },
    "id": "mUug3F9EPUfO",
    "outputId": "fc9bb604-1841-4328-c3fd-5300ec115942"
   },
   "outputs": [
    {
     "data": {
      "text/latex": [
       "$\\displaystyle - e^{- x}$"
      ],
      "text/plain": [
       "  -x\n",
       "-ℯ  "
      ]
     },
     "execution_count": 16,
     "metadata": {},
     "output_type": "execute_result"
    }
   ],
   "source": [
    "integrate(exp(-x), x)"
   ]
  },
  {
   "cell_type": "code",
   "execution_count": 17,
   "metadata": {
    "colab": {
     "base_uri": "https://localhost:8080/",
     "height": 37
    },
    "id": "uOAI66xwPUfO",
    "outputId": "554e6a0b-ebd4-48f7-8ce8-a4be4ba02a14"
   },
   "outputs": [
    {
     "data": {
      "text/latex": [
       "$\\displaystyle 1$"
      ],
      "text/plain": [
       "1"
      ]
     },
     "execution_count": 17,
     "metadata": {},
     "output_type": "execute_result"
    }
   ],
   "source": [
    "# 정적분 값을 알고 싶을 때\n",
    "# (function, (integration_variable, lower_limit, upper_limit))\n",
    "# infinity = 소문자 알파벳 o를 두번 입력\n",
    "\n",
    "integrate(exp(-x), (x, 0, oo))"
   ]
  },
  {
   "cell_type": "code",
   "execution_count": 18,
   "metadata": {
    "colab": {
     "base_uri": "https://localhost:8080/",
     "height": 38
    },
    "id": "yaZSWQOsPUfP",
    "outputId": "be70a72e-f93a-4a01-ec2f-64c9056ec552"
   },
   "outputs": [
    {
     "data": {
      "text/latex": [
       "$\\displaystyle \\pi$"
      ],
      "text/plain": [
       "π"
      ]
     },
     "execution_count": 18,
     "metadata": {},
     "output_type": "execute_result"
    }
   ],
   "source": [
    "integrate(exp(-x**2 - y**2), (x, -oo, oo), (y, -oo, oo))"
   ]
  },
  {
   "cell_type": "code",
   "execution_count": 19,
   "metadata": {
    "colab": {
     "base_uri": "https://localhost:8080/",
     "height": 55
    },
    "id": "6wlipZg3PUfP",
    "outputId": "31238748-ba3e-4ce9-855c-f179148b34d7"
   },
   "outputs": [
    {
     "data": {
      "text/latex": [
       "$\\displaystyle \\int \\log{\\left(x \\right)}^{2}\\, dx$"
      ],
      "text/plain": [
       "⌠           \n",
       "⎮    2      \n",
       "⎮ log (x) dx\n",
       "⌡           "
      ]
     },
     "execution_count": 19,
     "metadata": {},
     "output_type": "execute_result"
    }
   ],
   "source": [
    "# 적분 기호로 표현하고 싶을 때\n",
    "\n",
    "expr = Integral(log(x)**2, x)\n",
    "expr"
   ]
  },
  {
   "cell_type": "code",
   "execution_count": 20,
   "metadata": {
    "colab": {
     "base_uri": "https://localhost:8080/",
     "height": 39
    },
    "id": "NZd3bk3kPUfP",
    "outputId": "c7a59ce7-152f-42f6-d508-ff29b2e217b5"
   },
   "outputs": [
    {
     "data": {
      "text/latex": [
       "$\\displaystyle x \\log{\\left(x \\right)}^{2} - 2 x \\log{\\left(x \\right)} + 2 x$"
      ],
      "text/plain": [
       "     2                      \n",
       "x⋅log (x) - 2⋅x⋅log(x) + 2⋅x"
      ]
     },
     "execution_count": 20,
     "metadata": {},
     "output_type": "execute_result"
    }
   ],
   "source": [
    "# 적분 값을 알고 싶을 때\n",
    "\n",
    "expr.doit()"
   ]
  },
  {
   "cell_type": "code",
   "execution_count": 21,
   "metadata": {
    "id": "SaoT9ynnPUfP",
    "outputId": "5de737f6-7277-4829-b47a-9e9bbb929ac0"
   },
   "outputs": [
    {
     "data": {
      "text/latex": [
       "$\\displaystyle \\int \\left(3 x^{2} + 3 y^{2} + e^{y} + \\frac{1}{x}\\right)\\, dx$"
      ],
      "text/plain": [
       "⌠                          \n",
       "⎮ ⎛   2      2    y   1⎞   \n",
       "⎮ ⎜3⋅x  + 3⋅y  + ℯ  + ─⎟ dx\n",
       "⎮ ⎝                   x⎠   \n",
       "⌡                          "
      ]
     },
     "execution_count": 21,
     "metadata": {},
     "output_type": "execute_result"
    }
   ],
   "source": [
    "expr = Integral(3*x*x+3*y*y+1/x+exp(y), x)\n",
    "expr"
   ]
  },
  {
   "cell_type": "code",
   "execution_count": 22,
   "metadata": {
    "id": "SjDj7sXDPUfQ",
    "outputId": "6f61486a-f285-458c-9508-79ceecdedb0b",
    "scrolled": true
   },
   "outputs": [
    {
     "data": {
      "text/latex": [
       "$\\displaystyle x^{3} + x \\left(3 y^{2} + e^{y}\\right) + \\log{\\left(x \\right)}$"
      ],
      "text/plain": [
       " 3     ⎛   2    y⎞         \n",
       "x  + x⋅⎝3⋅y  + ℯ ⎠ + log(x)"
      ]
     },
     "execution_count": 22,
     "metadata": {},
     "output_type": "execute_result"
    }
   ],
   "source": [
    "expr.doit()"
   ]
  },
  {
   "cell_type": "code",
   "execution_count": null,
   "metadata": {
    "id": "1kpDED3fPUfQ"
   },
   "outputs": [],
   "source": []
  },
  {
   "cell_type": "markdown",
   "metadata": {
    "id": "nGAcEbs6PUfQ"
   },
   "source": [
    "# 5. Taylor series"
   ]
  },
  {
   "cell_type": "code",
   "execution_count": 23,
   "metadata": {
    "id": "uIEBTYgYPUfQ",
    "outputId": "2eaaed8d-b88b-4604-dee6-2e9d5c13d12d"
   },
   "outputs": [
    {
     "data": {
      "text/latex": [
       "$\\displaystyle \\sqrt{2} + \\frac{\\sqrt{2} \\left(x - 1\\right)}{4} - \\frac{\\sqrt{2} \\left(x - 1\\right)^{2}}{32} + \\frac{\\sqrt{2} \\left(x - 1\\right)^{3}}{128} + O\\left(\\left(x - 1\\right)^{4}; x\\rightarrow 1\\right)$"
      ],
      "text/plain": [
       "                            2             3                     \n",
       "     √2⋅(x - 1)   √2⋅(x - 1)    √2⋅(x - 1)     ⎛       4       ⎞\n",
       "√2 + ────────── - ─────────── + ─────────── + O⎝(x - 1) ; x → 1⎠\n",
       "         4             32           128                         "
      ]
     },
     "metadata": {},
     "output_type": "display_data"
    }
   ],
   "source": [
    "x = Symbol('x')\n",
    "f = sqrt(1+x)\n",
    "f_taylor = f.series(x, x0=1, n=4)\n",
    "display(f_taylor)"
   ]
  },
  {
   "cell_type": "code",
   "execution_count": 24,
   "metadata": {
    "id": "iPjcxoBWPUfQ",
    "outputId": "9fbfe086-b321-4189-d43f-3a5c18e97c02"
   },
   "outputs": [
    {
     "data": {
      "text/latex": [
       "$\\displaystyle \\frac{\\sqrt{2} \\left(x - 1\\right)^{3}}{128} - \\frac{\\sqrt{2} \\left(x - 1\\right)^{2}}{32} + \\frac{\\sqrt{2} \\left(x - 1\\right)}{4} + \\sqrt{2}$"
      ],
      "text/plain": [
       "          3             2                  \n",
       "√2⋅(x - 1)    √2⋅(x - 1)    √2⋅(x - 1)     \n",
       "─────────── - ─────────── + ────────── + √2\n",
       "    128            32           4          "
      ]
     },
     "metadata": {},
     "output_type": "display_data"
    }
   ],
   "source": [
    "f_taylor_valid = f_taylor.removeO()\n",
    "display(f_taylor_valid)"
   ]
  },
  {
   "cell_type": "code",
   "execution_count": 25,
   "metadata": {
    "id": "fRjGhP_NPUfR",
    "outputId": "9565e98c-9adf-4f75-fdb6-890233f7e5ff"
   },
   "outputs": [
    {
     "data": {
      "text/latex": [
       "$\\displaystyle \\tan{\\left(\\frac{y}{x + 1} \\right)}$"
      ],
      "text/plain": [
       "   ⎛  y  ⎞\n",
       "tan⎜─────⎟\n",
       "   ⎝x + 1⎠"
      ]
     },
     "metadata": {},
     "output_type": "display_data"
    }
   ],
   "source": [
    "x = Symbol('x')\n",
    "y = Symbol('y')\n",
    "f = tan(y/(1+x))\n",
    "display(f)"
   ]
  },
  {
   "cell_type": "code",
   "execution_count": 26,
   "metadata": {
    "id": "Bs3Un_koPUfR",
    "outputId": "d5a858a0-9724-4bc6-9989-311857da49bb"
   },
   "outputs": [
    {
     "data": {
      "text/latex": [
       "$\\displaystyle y^{3} \\left(- \\frac{10 x^{3}}{3} + 2 x^{2} - x + \\frac{1}{3}\\right) + y \\left(- x^{3} + x^{2} - x + 1\\right)$"
      ],
      "text/plain": [
       "   ⎛      3               ⎞                        \n",
       " 3 ⎜  10⋅x       2       1⎟     ⎛   3    2        ⎞\n",
       "y ⋅⎜- ───── + 2⋅x  - x + ─⎟ + y⋅⎝- x  + x  - x + 1⎠\n",
       "   ⎝    3                3⎠                        "
      ]
     },
     "metadata": {},
     "output_type": "display_data"
    }
   ],
   "source": [
    "num_order = 4\n",
    "f_taylor = f.series(x, 0, num_order).removeO().series(y, 0, num_order).removeO()\n",
    "display(f_taylor)"
   ]
  },
  {
   "cell_type": "markdown",
   "metadata": {
    "id": "O45TxC5mPUfR"
   },
   "source": [
    "# Grad, Hessian"
   ]
  },
  {
   "cell_type": "code",
   "execution_count": 27,
   "metadata": {
    "id": "Xs5NGpoTPUfR"
   },
   "outputs": [],
   "source": [
    "import numpy as np\n",
    "import numdifftools as nd\n",
    "import copy\n",
    "\n",
    "import time"
   ]
  },
  {
   "cell_type": "markdown",
   "metadata": {
    "id": "qq4naWhmPUfS"
   },
   "source": [
    "## numdifftools 사용 방법"
   ]
  },
  {
   "cell_type": "code",
   "execution_count": 28,
   "metadata": {
    "id": "X8kwXMDXPUfS"
   },
   "outputs": [],
   "source": [
    "fun = lambda x : 4*x[1]**3+x[0]**2-12*x[1]**2-36*x[1]+2"
   ]
  },
  {
   "cell_type": "code",
   "execution_count": 29,
   "metadata": {
    "id": "wLlr252FPUfS"
   },
   "outputs": [],
   "source": [
    "H = nd.Hessian(fun)"
   ]
  },
  {
   "cell_type": "code",
   "execution_count": 30,
   "metadata": {
    "id": "y6XMuBQDPUfS",
    "outputId": "2943770a-cf98-4f7c-a383-e8223d6d2411"
   },
   "outputs": [
    {
     "data": {
      "text/plain": [
       "array([[2., 0.],\n",
       "       [0., 0.]])"
      ]
     },
     "execution_count": 30,
     "metadata": {},
     "output_type": "execute_result"
    }
   ],
   "source": [
    "H(np.array([1, 1]))"
   ]
  },
  {
   "cell_type": "code",
   "execution_count": 31,
   "metadata": {
    "id": "QoPlmVhkPUfT"
   },
   "outputs": [],
   "source": [
    "g = nd.Gradient(fun)"
   ]
  },
  {
   "cell_type": "code",
   "execution_count": 32,
   "metadata": {
    "id": "gCjN7qKfPUfT",
    "outputId": "81f00394-0b13-4d73-a542-b0f20605ca49",
    "scrolled": true
   },
   "outputs": [
    {
     "data": {
      "text/plain": [
       "array([  2., -48.])"
      ]
     },
     "execution_count": 32,
     "metadata": {},
     "output_type": "execute_result"
    }
   ],
   "source": [
    "g([1,1])"
   ]
  }
 ],
 "metadata": {
  "colab": {
   "name": "OP_Day_1.ipynb",
   "provenance": []
  },
  "kernelspec": {
   "display_name": "Python 3 (ipykernel)",
   "language": "python",
   "name": "python3"
  },
  "language_info": {
   "codemirror_mode": {
    "name": "ipython",
    "version": 3
   },
   "file_extension": ".py",
   "mimetype": "text/x-python",
   "name": "python",
   "nbconvert_exporter": "python",
   "pygments_lexer": "ipython3",
   "version": "3.9.13"
  }
 },
 "nbformat": 4,
 "nbformat_minor": 1
}
